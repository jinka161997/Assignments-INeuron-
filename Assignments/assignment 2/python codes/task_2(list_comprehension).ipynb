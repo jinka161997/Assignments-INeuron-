{
 "cells": [
  {
   "cell_type": "code",
   "execution_count": 2,
   "metadata": {},
   "outputs": [
    {
     "name": "stdout",
     "output_type": "stream",
     "text": [
      "['A', 'C', 'A', 'D', 'G', 'I', 'L', 'D']\n"
     ]
    }
   ],
   "source": [
    "# List Comprehension = [expression condition]\n",
    "\n",
    "# 1\n",
    "given_words = \"ACADGILD\"\n",
    "results = [letters for letters in given_words]\n",
    "print(results)"
   ]
  },
  {
   "cell_type": "code",
   "execution_count": 4,
   "metadata": {},
   "outputs": [
    {
     "name": "stdout",
     "output_type": "stream",
     "text": [
      "['x', 'xx', 'xxx', 'xxxx', 'y', 'yy', 'yyy', 'yyyy', 'z', 'zz', 'zzz', 'zzzz']\n"
     ]
    }
   ],
   "source": [
    "#2\n",
    "given_list = [\"x\",\"y\",\"z\"]\n",
    "# First for loop is outer loop and the second one is inner loop\n",
    "# After the expression the first statement is always the outer condition/fn followed by inner condition/fn\n",
    "# It means first the expression will run for all the values of number given first value of item\n",
    "results = [items*number for items in given_list for number in range(1,5) ]\n",
    "print(results)"
   ]
  },
  {
   "cell_type": "code",
   "execution_count": 5,
   "metadata": {},
   "outputs": [
    {
     "data": {
      "text/plain": [
       "['x', 'y', 'z', 'xx', 'yy', 'zz', 'xxx', 'yyy', 'zzz', 'xxxx', 'yyyy', 'zzzz']"
      ]
     },
     "execution_count": 5,
     "metadata": {},
     "output_type": "execute_result"
    }
   ],
   "source": [
    "#3\n",
    "results = [items*numbers for numbers in range(1,5) for items in given_list]\n",
    "results"
   ]
  },
  {
   "cell_type": "code",
   "execution_count": 6,
   "metadata": {},
   "outputs": [
    {
     "data": {
      "text/plain": [
       "[[2], [3], [4], [3], [4], [5], [4], [5], [6]]"
      ]
     },
     "execution_count": 6,
     "metadata": {},
     "output_type": "execute_result"
    }
   ],
   "source": [
    "# 4 \n",
    "given_list = [2,3,4]\n",
    "results = [[i+j] for i in given_list for j in range (3)]\n",
    "results"
   ]
  },
  {
   "cell_type": "code",
   "execution_count": 7,
   "metadata": {},
   "outputs": [
    {
     "data": {
      "text/plain": [
       "[[2, 3, 4, 5], [3, 4, 5, 6], [4, 5, 6, 7], [5, 6, 7, 8]]"
      ]
     },
     "execution_count": 7,
     "metadata": {},
     "output_type": "execute_result"
    }
   ],
   "source": [
    "#5\n",
    "given_list = [2,3,4,5]\n",
    "results = [[i+number for i in given_list] for number in range (4)]\n",
    "results"
   ]
  },
  {
   "cell_type": "code",
   "execution_count": 8,
   "metadata": {},
   "outputs": [
    {
     "data": {
      "text/plain": [
       "[(1, 1), (2, 1), (3, 1), (1, 2), (2, 2), (3, 2), (1, 3), (2, 3), (3, 3)]"
      ]
     },
     "execution_count": 8,
     "metadata": {},
     "output_type": "execute_result"
    }
   ],
   "source": [
    "#6\n",
    "given_list = [1,2,3]\n",
    "results = [(j,i) for i in given_list for j in given_list]\n",
    "results"
   ]
  },
  {
   "cell_type": "markdown",
   "metadata": {},
   "source": [
    "## Implement List comprehensions to produce the following lists. \n",
    " \n",
    "## Write List comprehensions to produce the following Lists \n",
    " \n"
   ]
  },
  {
   "cell_type": "code",
   "execution_count": 1,
   "metadata": {},
   "outputs": [
    {
     "name": "stdout",
     "output_type": "stream",
     "text": [
      "['A', 'C', 'A', 'D', 'G', 'I', 'L', 'D']\n",
      "['x', 'xx', 'xxx', 'xxxx', 'y', 'yy', 'yyy', 'yyyy', 'z', 'zz', 'zzz', 'zzzz']\n",
      "['x', 'y', 'z', 'xx', 'yy', 'zz', 'xxx', 'yyy', 'zzz', 'xxxx', 'yyyy', 'zzzz']\n",
      "[[2], [3], [4], [3], [4], [5], [4], [5], [6]]\n",
      "[[2, 3, 4, 5], [3, 4, 5, 6], [4, 5, 6, 7], [5, 6, 7, 8]]\n",
      "[(1, 1), (2, 1), (3, 1), (1, 2), (2, 2), (3, 2), (1, 3), (2, 3), (3, 3)]\n"
     ]
    }
   ],
   "source": [
    "# List Comprehension = [expression condition]\n",
    "\n",
    "# 1\n",
    "given_word = \"ACADGILD\"\n",
    "result = [letters for letters in given_word]\n",
    "print(result)\n",
    "\n",
    "# 2\n",
    "given_list = ['x','y','z']\n",
    "# First for loop is outer loop and the second one is inner loop\n",
    "# After the expression the first statement is always the outer condition/fn followed by inner condition/fn\n",
    "# It means first the expression will run for all the values of number given first value of item\n",
    "result = [items*number for items in given_list for number in range(1, 5)]\n",
    "print(result)\n",
    "\n",
    "# 3\n",
    "result = [items*number for number in range(1,5) for items in given_list]\n",
    "print(result)\n",
    "\n",
    "# 4\n",
    "given_list = [2,3,4]\n",
    "result = [[i+j] for i in given_list for j in range(3)]\n",
    "print(result)\n",
    "\n",
    "# 5\n",
    "given_list = [2,3,4,5]\n",
    "result = [[i+number for i in given_list] for number in range(4)]\n",
    "print(result)\n",
    "\n",
    "# 6\n",
    "given_list = [1,2,3]\n",
    "result = [(j,i) for i in given_list for j in given_list]\n",
    "print(result)"
   ]
  }
 ],
 "metadata": {
  "kernelspec": {
   "display_name": "Python 3",
   "language": "python",
   "name": "python3"
  },
  "language_info": {
   "codemirror_mode": {
    "name": "ipython",
    "version": 3
   },
   "file_extension": ".py",
   "mimetype": "text/x-python",
   "name": "python",
   "nbconvert_exporter": "python",
   "pygments_lexer": "ipython3",
   "version": "3.7.4"
  }
 },
 "nbformat": 4,
 "nbformat_minor": 2
}
