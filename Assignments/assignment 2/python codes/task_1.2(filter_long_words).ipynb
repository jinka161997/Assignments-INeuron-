{
 "cells": [
  {
   "cell_type": "markdown",
   "metadata": {},
   "source": [
    "## Write a function filter_long_words() that takes a list of words and an integer n and returns the list of words that are longer than n. \n",
    " \n",
    " "
   ]
  },
  {
   "cell_type": "code",
   "execution_count": 1,
   "metadata": {},
   "outputs": [
    {
     "name": "stdout",
     "output_type": "stream",
     "text": [
      "['effected', 'stayhealthy']\n"
     ]
    }
   ],
   "source": [
    "def filter_long_words(iterable,n):\n",
    "    x = []\n",
    "    for i in iterable:\n",
    "        if len(i)>n:\n",
    "            x.append(i)\n",
    "    return x\n",
    "\n",
    "long = [\"hey\",\"corona\",\"has\",\"effected\",\"please\",\"stay\",\"athome\",\"stayhealthy\"]\n",
    "results = filter_long_words(long,7)\n",
    "print(results)"
   ]
  },
  {
   "cell_type": "code",
   "execution_count": 2,
   "metadata": {},
   "outputs": [
    {
     "name": "stdout",
     "output_type": "stream",
     "text": [
      "[None, None, 'effected', 'stayhealthy']\n"
     ]
    }
   ],
   "source": [
    "def filter_long_words(iterable, n):\n",
    "    x = []\n",
    "    x = [x.append(i) for i in iterable if len(i) > n]\n",
    "    for i in iterable:\n",
    "        if len(i) > n:\n",
    "            x.append(i)\n",
    "\n",
    "    return x\n",
    "\n",
    "\n",
    "l = [\"hey\",\"corona\",\"has\",\"effected\",\"please\",\"stay\",\"athome\",\"stayhealthy\"]\n",
    "print(filter_long_words(l, 7))"
   ]
  }
 ],
 "metadata": {
  "kernelspec": {
   "display_name": "Python 3",
   "language": "python",
   "name": "python3"
  },
  "language_info": {
   "codemirror_mode": {
    "name": "ipython",
    "version": 3
   },
   "file_extension": ".py",
   "mimetype": "text/x-python",
   "name": "python",
   "nbconvert_exporter": "python",
   "pygments_lexer": "ipython3",
   "version": "3.7.4"
  }
 },
 "nbformat": 4,
 "nbformat_minor": 2
}
