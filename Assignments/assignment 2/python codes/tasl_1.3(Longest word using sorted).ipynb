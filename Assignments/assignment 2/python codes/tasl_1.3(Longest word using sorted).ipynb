{
 "cells": [
  {
   "cell_type": "markdown",
   "metadata": {},
   "source": [
    "## Implement a function longestWord() that takes a list of words and returns the longest one"
   ]
  },
  {
   "cell_type": "code",
   "execution_count": 3,
   "metadata": {},
   "outputs": [
    {
     "name": "stdout",
     "output_type": "stream",
     "text": [
      "enter number of words we want to enter:9\n",
      "enter the words one by one:\n",
      "enter the words one by one:hello \n",
      "enter the words one by one:how are you\n",
      "enter the words one by one:i think u are doing well\n",
      "enter the words one by one:corona is being spread huge \n",
      "enter the words one by one:please take precautions\n",
      "enter the words one by one:better stay at home\n",
      "enter the words one by one:avoid cold items\n",
      "enter the words one by one:take hot items \n",
      "our longest word among ['', 'hello ', 'how are you', 'i think u are doing well', 'corona is being spread huge ', 'please take precautions', 'better stay at home', 'avoid cold items', 'take hot items ']  is  corona is being spread huge ."
     ]
    }
   ],
   "source": [
    "longest_word = []\n",
    "n = int(input(\"enter number of words we want to enter:\"))\n",
    "for i in range(n):\n",
    "    # words to enter in the list\n",
    "    x=input(\"enter the words one by one:\")\n",
    "    longest_word.append(x)\n",
    "\n",
    "    \n",
    "results = sorted(longest_word,key=len)\n",
    "print(\"our longest word among\", longest_word,\" is \",results[-1],end=\".\")"
   ]
  },
  {
   "cell_type": "code",
   "execution_count": null,
   "metadata": {},
   "outputs": [],
   "source": []
  },
  {
   "cell_type": "code",
   "execution_count": null,
   "metadata": {},
   "outputs": [],
   "source": []
  }
 ],
 "metadata": {
  "kernelspec": {
   "display_name": "Python 3",
   "language": "python",
   "name": "python3"
  },
  "language_info": {
   "codemirror_mode": {
    "name": "ipython",
    "version": 3
   },
   "file_extension": ".py",
   "mimetype": "text/x-python",
   "name": "python",
   "nbconvert_exporter": "python",
   "pygments_lexer": "ipython3",
   "version": "3.7.4"
  }
 },
 "nbformat": 4,
 "nbformat_minor": 2
}
