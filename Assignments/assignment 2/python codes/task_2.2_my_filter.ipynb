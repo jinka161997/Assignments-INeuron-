{
 "cells": [
  {
   "cell_type": "markdown",
   "metadata": {},
   "source": [
    "## Write a Python program to implement your own myfilter() function which works exactly like Python's built-in function filter() "
   ]
  },
  {
   "cell_type": "code",
   "execution_count": 1,
   "metadata": {},
   "outputs": [
    {
     "name": "stdout",
     "output_type": "stream",
     "text": [
      "Using the filter function, our even numbers are : \n",
      " [0, 2, 4, 6, 8, 10]\n"
     ]
    }
   ],
   "source": [
    "def my_filter (fn, sequence):\n",
    "    empty_list = []\n",
    "    for values in sequence:\n",
    "        if fn(values):\n",
    "            empty_list.append(values)\n",
    "    return empty_list\n",
    "\n",
    "## testing the filter function\n",
    "def iseven(n):\n",
    "    if n%2==0:\n",
    "        return True\n",
    "    else:\n",
    "        return False\n",
    "\n",
    "    \n",
    "    \n",
    "number = range(11)\n",
    "x = my_filter(iseven,number)\n",
    "print(\"Using the filter function, our even numbers are : \\n\", str(x))"
   ]
  }
 ],
 "metadata": {
  "kernelspec": {
   "display_name": "Python 3",
   "language": "python",
   "name": "python3"
  },
  "language_info": {
   "codemirror_mode": {
    "name": "ipython",
    "version": 3
   },
   "file_extension": ".py",
   "mimetype": "text/x-python",
   "name": "python",
   "nbconvert_exporter": "python",
   "pygments_lexer": "ipython3",
   "version": "3.7.4"
  }
 },
 "nbformat": 4,
 "nbformat_minor": 2
}
