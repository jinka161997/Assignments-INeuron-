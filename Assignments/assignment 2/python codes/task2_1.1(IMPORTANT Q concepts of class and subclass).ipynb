{
 "cells": [
  {
   "cell_type": "markdown",
   "metadata": {},
   "source": [
    "## Write a Python Program(with class concepts) to find the area of the triangle using the below formula. \n",
    " \n",
    "#### area = (s*(s-a)*(s-b)*(s-c)) ** 0.5 "
   ]
  },
  {
   "cell_type": "code",
   "execution_count": 2,
   "metadata": {},
   "outputs": [
    {
     "name": "stdout",
     "output_type": "stream",
     "text": [
      "56\n",
      "66\n",
      "77\n",
      "1806.216608687895\n"
     ]
    }
   ],
   "source": [
    "class SidesOFTriangle:\n",
    "    def __init__(self, a=2, b=2, c=2):\n",
    "        self.sideA = a\n",
    "        self.sideB = b\n",
    "        self.sideC = c\n",
    "\n",
    "\n",
    "class AreaOfTriangle(SidesOFTriangle):\n",
    "    def area(self):\n",
    "        s = (self.sideA + self.sideB + self.sideC) / 2\n",
    "        return (s * (s - self.sideA) * (s - self.sideB) * (s - self.sideC)) ** 0.5\n",
    "\n",
    "\n",
    "x = int(input())\n",
    "y = int(input())\n",
    "z = int(input())\n",
    "AreaOfTriangle_object = AreaOfTriangle(x, y, z)\n",
    "result = AreaOfTriangle_object.area()\n",
    "\n",
    "print(result)"
   ]
  },
  {
   "cell_type": "code",
   "execution_count": 1,
   "metadata": {},
   "outputs": [
    {
     "name": "stdout",
     "output_type": "stream",
     "text": [
      "12\n",
      "13\n",
      "14\n",
      "72.30793524918272\n"
     ]
    }
   ],
   "source": [
    "class SideOFTraingle:\n",
    "    def __init__(self,a=2, b=2, c=2):\n",
    "        self.sideA = a\n",
    "        self.sideB = b\n",
    "        self.sideC = c\n",
    "\n",
    "class AreaOfTraingle(SideOFTraingle):\n",
    "    def area(self):\n",
    "        s = (self.sideA + self.sideB + self.sideC) / 2\n",
    "        return (s*(s-self.sideA)*(s-self.sideB)*(s-self.sideC))**0.5\n",
    "\n",
    "    \n",
    "x = int(input())\n",
    "y = int(input())\n",
    "z = int(input())\n",
    "AreaOfTriangle_object = AreaOfTraingle(x,y,z)\n",
    "results = AreaOfTriangle_object.area()\n",
    "print(results)"
   ]
  },
  {
   "cell_type": "code",
   "execution_count": null,
   "metadata": {},
   "outputs": [],
   "source": []
  }
 ],
 "metadata": {
  "kernelspec": {
   "display_name": "Python 3",
   "language": "python",
   "name": "python3"
  },
  "language_info": {
   "codemirror_mode": {
    "name": "ipython",
    "version": 3
   },
   "file_extension": ".py",
   "mimetype": "text/x-python",
   "name": "python",
   "nbconvert_exporter": "python",
   "pygments_lexer": "ipython3",
   "version": "3.7.4"
  }
 },
 "nbformat": 4,
 "nbformat_minor": 2
}
