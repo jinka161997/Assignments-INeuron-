{
 "cells": [
  {
   "cell_type": "markdown",
   "metadata": {},
   "source": [
    "### Q1) Write a program which accepts a sequence of comma-separated numbers from console and generate a list."
   ]
  },
  {
   "cell_type": "code",
   "execution_count": 4,
   "metadata": {},
   "outputs": [
    {
     "name": "stdout",
     "output_type": "stream",
     "text": [
      "1,2,3,4\n",
      "[1, 2, 3, 4]\n"
     ]
    }
   ],
   "source": [
    "def task2_1():\n",
    "    x = list(map(int, input().split(',')))\n",
    "    print(x)\n",
    "\n",
    "\n",
    "task2_1()"
   ]
  },
  {
   "cell_type": "markdown",
   "metadata": {},
   "source": [
    "### Enter the number of asterisk's you want in your middle row:  5\n",
    "\n",
    "*\n",
    "**\n",
    "***\n",
    "****\n",
    "*****\n",
    "****\n",
    "***\n",
    "**\n",
    "*"
   ]
  },
  {
   "cell_type": "code",
   "execution_count": 2,
   "metadata": {},
   "outputs": [
    {
     "name": "stdout",
     "output_type": "stream",
     "text": [
      "Enter the number of asterisk's you want in your middle row:5\n",
      "*\n",
      "**\n",
      "***\n",
      "****\n",
      "*****\n",
      "****\n",
      "***\n",
      "**\n",
      "*\n"
     ]
    }
   ],
   "source": [
    "def pattern(n):\n",
    "    for i in range(0,n):\n",
    "        for j in range(0,i + 1):\n",
    "            print(\"*\",end=\"\")\n",
    "        print(end=\"\\n\")\n",
    "    \n",
    "    for p in range(n - 1, 0 ,-1):\n",
    "        for q in range(p,0,-1):\n",
    "            print(\"*\", end=\"\")\n",
    "        print(end=\"\\n\")\n",
    "        \n",
    "# Number of asterisk a used wants\n",
    "x = int(input(\"Enter the number of asterisk's you want in your middle row:\"))\n",
    "pattern(x)"
   ]
  },
  {
   "cell_type": "code",
   "execution_count": null,
   "metadata": {},
   "outputs": [],
   "source": [
    "def pattern(n):\n",
    "    for i in range(0, n):\n",
    "        for j in range(0, i + 1):\n",
    "            print(\"*\", end=\"\")\n",
    "        print(end=\"\\n\")\n",
    "\n",
    "    for p in range(n - 1, 0, -1):\n",
    "        for q in range(p, 0, -1):\n",
    "            print(\"*\", end=\"\")\n",
    "        print(end=\"\\n\")\n",
    "\n",
    "\n",
    "# Number of asterisk a user wants\n",
    "x = int(input(\"Enter the number of asterisk's you want in your middle row: \"))\n",
    "pattern(x)\n"
   ]
  },
  {
   "cell_type": "markdown",
   "metadata": {},
   "source": [
    "### Q3) Write a Python program to reverse a word after accepting the input from the user"
   ]
  },
  {
   "cell_type": "code",
   "execution_count": 5,
   "metadata": {},
   "outputs": [
    {
     "name": "stdout",
     "output_type": "stream",
     "text": [
      "Enter a word: Welcome to Python World\n",
      "dlroW nohtyP ot emocleW\n"
     ]
    }
   ],
   "source": [
    "def reverse(n):\n",
    "    string_to_list = n[::-1]\n",
    "    print(string_to_list)\n",
    "\n",
    "\n",
    "x = input(\"Enter a word: \")\n",
    "reverse(x)"
   ]
  },
  {
   "cell_type": "markdown",
   "metadata": {},
   "source": [
    "### Q4) Write a Python Program to print the given string in the format specified in the sample output. WE, THE PEOPLE OF INDIA, having solemnly resolved to constitute India into a SOVEREIGN, SOCIALIST, SECULAR, DEMOCRATIC REPUBLIC and to secure to all its citizens"
   ]
  },
  {
   "cell_type": "code",
   "execution_count": 6,
   "metadata": {},
   "outputs": [
    {
     "name": "stdout",
     "output_type": "stream",
     "text": [
      "WE, THE PEOPLE OF INDIA,\n",
      "\thaving solemnly resolved to constitute India into a SOVEREIGN,!\n",
      "\t\tSOCIALIST, SECULAR, DEMOCRATIC REPUBLIC \n",
      "\t\t  and to secure to all its citizens \n"
     ]
    }
   ],
   "source": [
    "def format_specifier():\n",
    "    pledge = \"WE, THE PEOPLE OF INDIA,\\n\\thaving solemnly resolved to constitute India into a SOVEREIGN,\" \\\n",
    "             \"!\\n\\t\\tSOCIALIST, SECULAR, DEMOCRATIC REPUBLIC \\n\\t\\t  and to secure to all its citizens \"\n",
    "    print(pledge)\n",
    "\n",
    "\n",
    "format_specifier()"
   ]
  },
  {
   "cell_type": "code",
   "execution_count": null,
   "metadata": {},
   "outputs": [],
   "source": []
  }
 ],
 "metadata": {
  "kernelspec": {
   "display_name": "Python 3",
   "language": "python",
   "name": "python3"
  },
  "language_info": {
   "codemirror_mode": {
    "name": "ipython",
    "version": 3
   },
   "file_extension": ".py",
   "mimetype": "text/x-python",
   "name": "python",
   "nbconvert_exporter": "python",
   "pygments_lexer": "ipython3",
   "version": "3.7.4"
  }
 },
 "nbformat": 4,
 "nbformat_minor": 2
}
